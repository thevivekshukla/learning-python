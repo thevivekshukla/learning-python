{
 "cells": [
  {
   "cell_type": "code",
   "execution_count": 17,
   "metadata": {},
   "outputs": [
    {
     "name": "stdout",
     "output_type": "stream",
     "text": [
      "<class 'numpy.float64'>\n"
     ]
    }
   ],
   "source": [
    "import pandas\n",
    "from bokeh.plotting import figure, output_file, show\n",
    "\n",
    "p = figure(plot_width=400, plot_height=400, title=\"Pressure vs Temperature\")\n",
    "\n",
    "df = pandas.read_excel(\"verlegenhuken.xlsx\")\n",
    "\n",
    "df[\"Temperature\"] /= 10\n",
    "df[\"Pressure\"] /=10\n",
    "print(type(df[\"Temperature\"][1]))\n",
    "\n",
    "#for i in df[\"Temperature\"]:\n",
    "#    temperature.append(int(i/10))\n",
    "    \n",
    "#for i in df[\"Pressure\"]:\n",
    "#    pressure.append(int(i/10))\n",
    "    \n",
    "p.xaxis.axis_label=\"Temperature\"\n",
    "p.yaxis.axis_label=\"Pressure\"\n",
    "    \n",
    "p.circle(df[\"Temperature\"], df[\"Pressure\"], size=1, color=\"blue\")\n",
    "\n",
    "output_file(\"pressure_temperature.html\")\n",
    "show(p)"
   ]
  },
  {
   "cell_type": "code",
   "execution_count": 20,
   "metadata": {},
   "outputs": [],
   "source": [
    "\n",
    "\n",
    "import pandas\n",
    "\n",
    "from bokeh.plotting import figure, output_file, show\n",
    "\n",
    "df=pandas.read_excel(\"http://pythonhow.com/verlegenhuken.xlsx\",sheetname=0)\n",
    "df[\"Temperature\"]=df[\"Temperature\"]/10\n",
    "df[\"Pressure\"]=df[\"Pressure\"]/10\n",
    "\n",
    "p=figure(plot_width=500,plot_height=400,tools='pan,resize', title=\"Temperature and Air Pressure\",logo=None)\n",
    "\n",
    "p.title.text_color=\"Gray\"\n",
    "p.title.text_font=\"arial\"\n",
    "p.title.text_font_style=\"bold\"\n",
    "p.xaxis.minor_tick_line_color=None\n",
    "p.yaxis.minor_tick_line_color=None\n",
    "p.xaxis.axis_label=\"Temperature (°C)\"\n",
    "p.yaxis.axis_label=\"Pressure (hPa)\"                  \n",
    "\n",
    "p.circle(df[\"Temperature\"],df[\"Pressure\"],size=0.5)\n",
    "output_file(\"Weather.html\")\n",
    "show(p)\n"
   ]
  }
 ],
 "metadata": {
  "kernelspec": {
   "display_name": "Python 3",
   "language": "python",
   "name": "python3"
  },
  "language_info": {
   "codemirror_mode": {
    "name": "ipython",
    "version": 3
   },
   "file_extension": ".py",
   "mimetype": "text/x-python",
   "name": "python",
   "nbconvert_exporter": "python",
   "pygments_lexer": "ipython3",
   "version": "3.5.2"
  }
 },
 "nbformat": 4,
 "nbformat_minor": 2
}
