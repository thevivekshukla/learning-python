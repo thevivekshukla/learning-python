{
 "cells": [
  {
   "cell_type": "code",
   "execution_count": 7,
   "metadata": {
    "collapsed": true
   },
   "outputs": [],
   "source": [
    "from bokeh.charts import Scatter, output_file, show\n",
    "import pandas\n",
    "\n",
    "df = pandas.DataFrame(columns=[\"X\", \"Y\"])\n",
    "\n",
    "df[\"X\"] = [1, 2, 3, 4, 5]\n",
    "df[\"Y\"] = [31, 53, 21, 34, 36]\n",
    "\n",
    "p = Scatter(df, x=\"X\", y=\"Y\", title=\"Temperature Observation\", tools='', logo=None, xlabel=\"Day of observations\", ylabel=\"Temperature\")\n",
    "\n",
    "output_file(\"Scatter_charts.html\")\n",
    "\n",
    "show(p)"
   ]
  },
  {
   "cell_type": "code",
   "execution_count": 18,
   "metadata": {
    "collapsed": true
   },
   "outputs": [],
   "source": [
    "from bokeh.plotting import figure, output_file, show\n",
    "\n",
    "p = figure(plot_width=500, plot_height=500, title=\"Earthquakes\", logo=None, tools='pan, resize')\n",
    "\n",
    "\n",
    "p.title.text_color=\"red\"\n",
    "p.title.text_font = \"times\"\n",
    "p.title.text_font_style=\"italic\"\n",
    "\n",
    "p.xaxis.minor_tick_line_color = None\n",
    "\n",
    "p.xaxis.axis_label=\"Times\"\n",
    "p.yaxis.axis_label=\"Values\"\n",
    "\n",
    "#p.square([1,2,3,4,5], [5,6,5,5,3], size=[i*2 for i in [8, 12, 16, 20, 24]], color=\"red\", alpha=0.5)\n",
    "\n",
    "p.line([1,2,3,4,5], [5,6,5,5,3], line_width=2, color=\"red\", alpha=0.5)\n",
    "p.circle([i*2 for i in [1,2,3,4,5]], [5,6,5,5,3], size=8, color=\"olive\", alpha=0.5)\n",
    "\n",
    "output_file(\"Scatter_plot.html\")\n",
    "\n",
    "show(p)"
   ]
  },
  {
   "cell_type": "code",
   "execution_count": 17,
   "metadata": {},
   "outputs": [],
   "source": [
    "from bokeh.plotting import figure, show, output_file\n",
    "import pandas\n",
    "\n",
    "df = pandas.read_csv(\"http://ichart.yahoo.com/table.csv?s=AAPL&a=0&b=1&c=2000&d=0&e=1&f=2010\", parse_dates=[\"Date\"])\n",
    "\n",
    "p = figure(width=500, height=250, x_axis_type=\"datetime\", responsive=True)\n",
    "\n",
    "p.line(df[\"Date\"], df[\"Close\"], color=\"Orange\", alpha=0.5)\n",
    "\n",
    "output_file(\"Timeseries.html\")\n",
    "\n",
    "show(p)"
   ]
  }
 ],
 "metadata": {
  "kernelspec": {
   "display_name": "Python 3",
   "language": "python",
   "name": "python3"
  },
  "language_info": {
   "codemirror_mode": {
    "name": "ipython",
    "version": 3
   },
   "file_extension": ".py",
   "mimetype": "text/x-python",
   "name": "python",
   "nbconvert_exporter": "python",
   "pygments_lexer": "ipython3",
   "version": "3.5.2"
  }
 },
 "nbformat": 4,
 "nbformat_minor": 2
}
