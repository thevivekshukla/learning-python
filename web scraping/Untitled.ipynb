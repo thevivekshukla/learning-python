{
 "cells": [
  {
   "cell_type": "raw",
   "metadata": {},
   "source": [
    "from bs4 import BeautifulSoup\n",
    "import requests\n",
    "\n",
    "r = requests.get('https://whentosurf.co/')\n",
    "c = r.content\n",
    "\n",
    "soup = BeautifulSoup(c, 'html.parser')\n",
    "\n",
    "#print(soup.prettify())\n",
    "\n",
    "anchor = soup.find_all('a')\n",
    "print(len(anchor))\n",
    "for a in anchor:\n",
    "    print(a.get('href'))"
   ]
  },
  {
   "cell_type": "code",
   "execution_count": null,
   "metadata": {
    "collapsed": true
   },
   "outputs": [],
   "source": []
  }
 ],
 "metadata": {
  "kernelspec": {
   "display_name": "Python 3",
   "language": "python",
   "name": "python3"
  },
  "language_info": {
   "codemirror_mode": {
    "name": "ipython",
    "version": 3
   },
   "file_extension": ".py",
   "mimetype": "text/x-python",
   "name": "python",
   "nbconvert_exporter": "python",
   "pygments_lexer": "ipython3",
   "version": "3.5.2"
  }
 },
 "nbformat": 4,
 "nbformat_minor": 2
}
