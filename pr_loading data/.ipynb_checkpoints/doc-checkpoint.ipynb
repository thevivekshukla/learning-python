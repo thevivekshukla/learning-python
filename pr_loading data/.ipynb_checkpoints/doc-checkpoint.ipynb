{
 "cells": [
  {
   "cell_type": "code",
   "execution_count": 1,
   "metadata": {
    "collapsed": true
   },
   "outputs": [],
   "source": [
    "import pandas"
   ]
  },
  {
   "cell_type": "code",
   "execution_count": 45,
   "metadata": {
    "collapsed": true
   },
   "outputs": [],
   "source": [
    "df = pandas.read_csv(\"doc.txt\")"
   ]
  },
  {
   "cell_type": "code",
   "execution_count": 46,
   "metadata": {},
   "outputs": [
    {
     "data": {
      "text/html": [
       "<div>\n",
       "<table border=\"1\" class=\"dataframe\">\n",
       "  <thead>\n",
       "    <tr style=\"text-align: right;\">\n",
       "      <th></th>\n",
       "      <th>ID</th>\n",
       "      <th>City</th>\n",
       "      <th>State</th>\n",
       "      <th>Country</th>\n",
       "    </tr>\n",
       "  </thead>\n",
       "  <tbody>\n",
       "    <tr>\n",
       "      <th>0</th>\n",
       "      <td>1</td>\n",
       "      <td>Raipur</td>\n",
       "      <td>Chhattisgarh</td>\n",
       "      <td>India</td>\n",
       "    </tr>\n",
       "    <tr>\n",
       "      <th>1</th>\n",
       "      <td>2</td>\n",
       "      <td>Bhilai</td>\n",
       "      <td>Chhattisgarh</td>\n",
       "      <td>India</td>\n",
       "    </tr>\n",
       "    <tr>\n",
       "      <th>2</th>\n",
       "      <td>3</td>\n",
       "      <td>Durg</td>\n",
       "      <td>Chhattisgarh</td>\n",
       "      <td>India</td>\n",
       "    </tr>\n",
       "    <tr>\n",
       "      <th>3</th>\n",
       "      <td>4</td>\n",
       "      <td>Bilaspur</td>\n",
       "      <td>Chhattisgarh</td>\n",
       "      <td>India</td>\n",
       "    </tr>\n",
       "    <tr>\n",
       "      <th>4</th>\n",
       "      <td>5</td>\n",
       "      <td>Bhatapara</td>\n",
       "      <td>Chhattisgarh</td>\n",
       "      <td>India</td>\n",
       "    </tr>\n",
       "  </tbody>\n",
       "</table>\n",
       "</div>"
      ],
      "text/plain": [
       "   ID       City         State Country\n",
       "0   1     Raipur  Chhattisgarh   India\n",
       "1   2     Bhilai  Chhattisgarh   India\n",
       "2   3       Durg  Chhattisgarh   India\n",
       "3   4   Bilaspur  Chhattisgarh   India\n",
       "4   5  Bhatapara  Chhattisgarh   India"
      ]
     },
     "execution_count": 46,
     "metadata": {},
     "output_type": "execute_result"
    }
   ],
   "source": [
    "df"
   ]
  },
  {
   "cell_type": "code",
   "execution_count": 4,
   "metadata": {
    "collapsed": true
   },
   "outputs": [],
   "source": [
    "df = df.set_index(\"ID\")"
   ]
  },
  {
   "cell_type": "code",
   "execution_count": 5,
   "metadata": {},
   "outputs": [
    {
     "data": {
      "text/html": [
       "<div>\n",
       "<table border=\"1\" class=\"dataframe\">\n",
       "  <thead>\n",
       "    <tr style=\"text-align: right;\">\n",
       "      <th></th>\n",
       "      <th>City</th>\n",
       "      <th>State</th>\n",
       "      <th>Country</th>\n",
       "    </tr>\n",
       "    <tr>\n",
       "      <th>ID</th>\n",
       "      <th></th>\n",
       "      <th></th>\n",
       "      <th></th>\n",
       "    </tr>\n",
       "  </thead>\n",
       "  <tbody>\n",
       "    <tr>\n",
       "      <th>1</th>\n",
       "      <td>Raipur</td>\n",
       "      <td>Chhattisgarh</td>\n",
       "      <td>India</td>\n",
       "    </tr>\n",
       "    <tr>\n",
       "      <th>2</th>\n",
       "      <td>Bhilai</td>\n",
       "      <td>Chhattisgarh</td>\n",
       "      <td>India</td>\n",
       "    </tr>\n",
       "    <tr>\n",
       "      <th>3</th>\n",
       "      <td>Durg</td>\n",
       "      <td>Chhattisgarh</td>\n",
       "      <td>India</td>\n",
       "    </tr>\n",
       "    <tr>\n",
       "      <th>4</th>\n",
       "      <td>Bilaspur</td>\n",
       "      <td>Chhattisgarh</td>\n",
       "      <td>India</td>\n",
       "    </tr>\n",
       "    <tr>\n",
       "      <th>5</th>\n",
       "      <td>Bhatapara</td>\n",
       "      <td>Chhattisgarh</td>\n",
       "      <td>India</td>\n",
       "    </tr>\n",
       "  </tbody>\n",
       "</table>\n",
       "</div>"
      ],
      "text/plain": [
       "          City          State  Country\n",
       "ID                                    \n",
       "1       Raipur   Chhattisgarh    India\n",
       "2       Bhilai   Chhattisgarh    India\n",
       "3         Durg   Chhattisgarh    India\n",
       "4     Bilaspur   Chhattisgarh    India\n",
       "5    Bhatapara   Chhattisgarh    India"
      ]
     },
     "execution_count": 5,
     "metadata": {},
     "output_type": "execute_result"
    }
   ],
   "source": [
    "df"
   ]
  },
  {
   "cell_type": "code",
   "execution_count": 19,
   "metadata": {},
   "outputs": [
    {
     "data": {
      "text/plain": [
       "' India'"
      ]
     },
     "execution_count": 19,
     "metadata": {},
     "output_type": "execute_result"
    }
   ],
   "source": [
    "df.iloc[1, 2]"
   ]
  },
  {
   "cell_type": "code",
   "execution_count": 47,
   "metadata": {},
   "outputs": [
    {
     "data": {
      "text/html": [
       "<div>\n",
       "<table border=\"1\" class=\"dataframe\">\n",
       "  <thead>\n",
       "    <tr style=\"text-align: right;\">\n",
       "      <th></th>\n",
       "      <th>City</th>\n",
       "      <th>State</th>\n",
       "    </tr>\n",
       "  </thead>\n",
       "  <tbody>\n",
       "    <tr>\n",
       "      <th>2</th>\n",
       "      <td>Durg</td>\n",
       "      <td>Chhattisgarh</td>\n",
       "    </tr>\n",
       "    <tr>\n",
       "      <th>3</th>\n",
       "      <td>Bilaspur</td>\n",
       "      <td>Chhattisgarh</td>\n",
       "    </tr>\n",
       "    <tr>\n",
       "      <th>4</th>\n",
       "      <td>Bhatapara</td>\n",
       "      <td>Chhattisgarh</td>\n",
       "    </tr>\n",
       "  </tbody>\n",
       "</table>\n",
       "</div>"
      ],
      "text/plain": [
       "        City         State\n",
       "2       Durg  Chhattisgarh\n",
       "3   Bilaspur  Chhattisgarh\n",
       "4  Bhatapara  Chhattisgarh"
      ]
     },
     "execution_count": 47,
     "metadata": {},
     "output_type": "execute_result"
    }
   ],
   "source": [
    "df.loc[\"2\":\"4\", \"City\":\"State\"]"
   ]
  },
  {
   "cell_type": "code",
   "execution_count": 28,
   "metadata": {},
   "outputs": [
    {
     "data": {
      "text/plain": [
       "' Bhilai'"
      ]
     },
     "execution_count": 28,
     "metadata": {},
     "output_type": "execute_result"
    }
   ],
   "source": [
    "df.ix[2, 0]"
   ]
  },
  {
   "cell_type": "code",
   "execution_count": 31,
   "metadata": {},
   "outputs": [
    {
     "data": {
      "text/plain": [
       "Int64Index([2, 3], dtype='int64', name='ID')"
      ]
     },
     "execution_count": 31,
     "metadata": {},
     "output_type": "execute_result"
    }
   ],
   "source": [
    "df.index[1:3]"
   ]
  },
  {
   "cell_type": "code",
   "execution_count": 34,
   "metadata": {},
   "outputs": [],
   "source": [
    "from geopy.geocoders import Nominatim"
   ]
  },
  {
   "cell_type": "code",
   "execution_count": 36,
   "metadata": {
    "collapsed": true
   },
   "outputs": [],
   "source": [
    "df[\"Continent\"] = df.shape[0]*[\"Asia\"]"
   ]
  },
  {
   "cell_type": "code",
   "execution_count": 38,
   "metadata": {},
   "outputs": [
    {
     "data": {
      "text/html": [
       "<div>\n",
       "<table border=\"1\" class=\"dataframe\">\n",
       "  <thead>\n",
       "    <tr style=\"text-align: right;\">\n",
       "      <th></th>\n",
       "      <th>City</th>\n",
       "      <th>State</th>\n",
       "      <th>Country</th>\n",
       "      <th>Continent</th>\n",
       "    </tr>\n",
       "    <tr>\n",
       "      <th>ID</th>\n",
       "      <th></th>\n",
       "      <th></th>\n",
       "      <th></th>\n",
       "      <th></th>\n",
       "    </tr>\n",
       "  </thead>\n",
       "  <tbody>\n",
       "    <tr>\n",
       "      <th>1</th>\n",
       "      <td>Raipur</td>\n",
       "      <td>Chhattisgarh</td>\n",
       "      <td>India</td>\n",
       "      <td>Asia</td>\n",
       "    </tr>\n",
       "    <tr>\n",
       "      <th>2</th>\n",
       "      <td>Bhilai</td>\n",
       "      <td>Chhattisgarh</td>\n",
       "      <td>India</td>\n",
       "      <td>Asia</td>\n",
       "    </tr>\n",
       "    <tr>\n",
       "      <th>3</th>\n",
       "      <td>Durg</td>\n",
       "      <td>Chhattisgarh</td>\n",
       "      <td>India</td>\n",
       "      <td>Asia</td>\n",
       "    </tr>\n",
       "    <tr>\n",
       "      <th>4</th>\n",
       "      <td>Bilaspur</td>\n",
       "      <td>Chhattisgarh</td>\n",
       "      <td>India</td>\n",
       "      <td>Asia</td>\n",
       "    </tr>\n",
       "    <tr>\n",
       "      <th>5</th>\n",
       "      <td>Bhatapara</td>\n",
       "      <td>Chhattisgarh</td>\n",
       "      <td>India</td>\n",
       "      <td>Asia</td>\n",
       "    </tr>\n",
       "  </tbody>\n",
       "</table>\n",
       "</div>"
      ],
      "text/plain": [
       "          City          State  Country Continent\n",
       "ID                                              \n",
       "1       Raipur   Chhattisgarh    India      Asia\n",
       "2       Bhilai   Chhattisgarh    India      Asia\n",
       "3         Durg   Chhattisgarh    India      Asia\n",
       "4     Bilaspur   Chhattisgarh    India      Asia\n",
       "5    Bhatapara   Chhattisgarh    India      Asia"
      ]
     },
     "execution_count": 38,
     "metadata": {},
     "output_type": "execute_result"
    }
   ],
   "source": [
    "df"
   ]
  },
  {
   "cell_type": "code",
   "execution_count": 56,
   "metadata": {
    "collapsed": true
   },
   "outputs": [],
   "source": [
    "nom = Nominatim()"
   ]
  },
  {
   "cell_type": "code",
   "execution_count": 54,
   "metadata": {
    "collapsed": true
   },
   "outputs": [],
   "source": [
    "df[\"Address\"] = df[\"City\"] +\", \"+ df[\"State\"] +\", \"+ df[\"Country\"]"
   ]
  },
  {
   "cell_type": "code",
   "execution_count": 55,
   "metadata": {},
   "outputs": [
    {
     "data": {
      "text/html": [
       "<div>\n",
       "<table border=\"1\" class=\"dataframe\">\n",
       "  <thead>\n",
       "    <tr style=\"text-align: right;\">\n",
       "      <th></th>\n",
       "      <th>ID</th>\n",
       "      <th>City</th>\n",
       "      <th>State</th>\n",
       "      <th>Country</th>\n",
       "      <th>Address</th>\n",
       "    </tr>\n",
       "  </thead>\n",
       "  <tbody>\n",
       "    <tr>\n",
       "      <th>0</th>\n",
       "      <td>1</td>\n",
       "      <td>Raipur</td>\n",
       "      <td>Chhattisgarh</td>\n",
       "      <td>India</td>\n",
       "      <td>Raipur, Chhattisgarh, India</td>\n",
       "    </tr>\n",
       "    <tr>\n",
       "      <th>1</th>\n",
       "      <td>2</td>\n",
       "      <td>Bhilai</td>\n",
       "      <td>Chhattisgarh</td>\n",
       "      <td>India</td>\n",
       "      <td>Bhilai, Chhattisgarh, India</td>\n",
       "    </tr>\n",
       "    <tr>\n",
       "      <th>2</th>\n",
       "      <td>3</td>\n",
       "      <td>Durg</td>\n",
       "      <td>Chhattisgarh</td>\n",
       "      <td>India</td>\n",
       "      <td>Durg, Chhattisgarh, India</td>\n",
       "    </tr>\n",
       "    <tr>\n",
       "      <th>3</th>\n",
       "      <td>4</td>\n",
       "      <td>Bilaspur</td>\n",
       "      <td>Chhattisgarh</td>\n",
       "      <td>India</td>\n",
       "      <td>Bilaspur, Chhattisgarh, India</td>\n",
       "    </tr>\n",
       "    <tr>\n",
       "      <th>4</th>\n",
       "      <td>5</td>\n",
       "      <td>Bhatapara</td>\n",
       "      <td>Chhattisgarh</td>\n",
       "      <td>India</td>\n",
       "      <td>Bhatapara, Chhattisgarh, India</td>\n",
       "    </tr>\n",
       "  </tbody>\n",
       "</table>\n",
       "</div>"
      ],
      "text/plain": [
       "   ID       City         State Country                         Address\n",
       "0   1     Raipur  Chhattisgarh   India     Raipur, Chhattisgarh, India\n",
       "1   2     Bhilai  Chhattisgarh   India     Bhilai, Chhattisgarh, India\n",
       "2   3       Durg  Chhattisgarh   India       Durg, Chhattisgarh, India\n",
       "3   4   Bilaspur  Chhattisgarh   India   Bilaspur, Chhattisgarh, India\n",
       "4   5  Bhatapara  Chhattisgarh   India  Bhatapara, Chhattisgarh, India"
      ]
     },
     "execution_count": 55,
     "metadata": {},
     "output_type": "execute_result"
    }
   ],
   "source": [
    "df"
   ]
  },
  {
   "cell_type": "code",
   "execution_count": 58,
   "metadata": {},
   "outputs": [],
   "source": [
    "df[\"Coordinates\"] = df[\"Address\"].apply(nom.geocode)"
   ]
  },
  {
   "cell_type": "code",
   "execution_count": 60,
   "metadata": {},
   "outputs": [
    {
     "data": {
      "text/html": [
       "<div>\n",
       "<table border=\"1\" class=\"dataframe\">\n",
       "  <thead>\n",
       "    <tr style=\"text-align: right;\">\n",
       "      <th></th>\n",
       "      <th>ID</th>\n",
       "      <th>City</th>\n",
       "      <th>State</th>\n",
       "      <th>Country</th>\n",
       "      <th>Address</th>\n",
       "      <th>Coordinates</th>\n",
       "    </tr>\n",
       "  </thead>\n",
       "  <tbody>\n",
       "    <tr>\n",
       "      <th>0</th>\n",
       "      <td>1</td>\n",
       "      <td>Raipur</td>\n",
       "      <td>Chhattisgarh</td>\n",
       "      <td>India</td>\n",
       "      <td>Raipur, Chhattisgarh, India</td>\n",
       "      <td>(Raipur, Chhattisgarh, 493332, India, (21.2379...</td>\n",
       "    </tr>\n",
       "    <tr>\n",
       "      <th>1</th>\n",
       "      <td>2</td>\n",
       "      <td>Bhilai</td>\n",
       "      <td>Chhattisgarh</td>\n",
       "      <td>India</td>\n",
       "      <td>Bhilai, Chhattisgarh, India</td>\n",
       "      <td>(Bhilai, Durg, Chhattisgarh, India, (21.212067...</td>\n",
       "    </tr>\n",
       "    <tr>\n",
       "      <th>2</th>\n",
       "      <td>3</td>\n",
       "      <td>Durg</td>\n",
       "      <td>Chhattisgarh</td>\n",
       "      <td>India</td>\n",
       "      <td>Durg, Chhattisgarh, India</td>\n",
       "      <td>(Durg, Chhattisgarh, 491002, India, (21.189728...</td>\n",
       "    </tr>\n",
       "    <tr>\n",
       "      <th>3</th>\n",
       "      <td>4</td>\n",
       "      <td>Bilaspur</td>\n",
       "      <td>Chhattisgarh</td>\n",
       "      <td>India</td>\n",
       "      <td>Bilaspur, Chhattisgarh, India</td>\n",
       "      <td>(Bilaspur, Bilāspur, Bilaspur, Chhattisgarh, 4...</td>\n",
       "    </tr>\n",
       "    <tr>\n",
       "      <th>4</th>\n",
       "      <td>5</td>\n",
       "      <td>Bhatapara</td>\n",
       "      <td>Chhattisgarh</td>\n",
       "      <td>India</td>\n",
       "      <td>Bhatapara, Chhattisgarh, India</td>\n",
       "      <td>(Bhatapara, Durg, Chhattisgarh, 493118, India,...</td>\n",
       "    </tr>\n",
       "  </tbody>\n",
       "</table>\n",
       "</div>"
      ],
      "text/plain": [
       "   ID       City         State Country                         Address  \\\n",
       "0   1     Raipur  Chhattisgarh   India     Raipur, Chhattisgarh, India   \n",
       "1   2     Bhilai  Chhattisgarh   India     Bhilai, Chhattisgarh, India   \n",
       "2   3       Durg  Chhattisgarh   India       Durg, Chhattisgarh, India   \n",
       "3   4   Bilaspur  Chhattisgarh   India   Bilaspur, Chhattisgarh, India   \n",
       "4   5  Bhatapara  Chhattisgarh   India  Bhatapara, Chhattisgarh, India   \n",
       "\n",
       "                                         Coordinates  \n",
       "0  (Raipur, Chhattisgarh, 493332, India, (21.2379...  \n",
       "1  (Bhilai, Durg, Chhattisgarh, India, (21.212067...  \n",
       "2  (Durg, Chhattisgarh, 491002, India, (21.189728...  \n",
       "3  (Bilaspur, Bilāspur, Bilaspur, Chhattisgarh, 4...  \n",
       "4  (Bhatapara, Durg, Chhattisgarh, 493118, India,...  "
      ]
     },
     "execution_count": 60,
     "metadata": {},
     "output_type": "execute_result"
    }
   ],
   "source": [
    "df"
   ]
  },
  {
   "cell_type": "code",
   "execution_count": 62,
   "metadata": {
    "collapsed": true
   },
   "outputs": [],
   "source": [
    "df[\"Latitude\"] = df[\"Coordinates\"].apply(lambda x: x.latitude if x != None else None)"
   ]
  },
  {
   "cell_type": "code",
   "execution_count": 64,
   "metadata": {},
   "outputs": [
    {
     "data": {
      "text/html": [
       "<div>\n",
       "<table border=\"1\" class=\"dataframe\">\n",
       "  <thead>\n",
       "    <tr style=\"text-align: right;\">\n",
       "      <th></th>\n",
       "      <th>ID</th>\n",
       "      <th>City</th>\n",
       "      <th>State</th>\n",
       "      <th>Country</th>\n",
       "      <th>Address</th>\n",
       "      <th>Coordinates</th>\n",
       "      <th>Latitude</th>\n",
       "    </tr>\n",
       "  </thead>\n",
       "  <tbody>\n",
       "    <tr>\n",
       "      <th>0</th>\n",
       "      <td>1</td>\n",
       "      <td>Raipur</td>\n",
       "      <td>Chhattisgarh</td>\n",
       "      <td>India</td>\n",
       "      <td>Raipur, Chhattisgarh, India</td>\n",
       "      <td>(Raipur, Chhattisgarh, 493332, India, (21.2379...</td>\n",
       "      <td>21.237947</td>\n",
       "    </tr>\n",
       "    <tr>\n",
       "      <th>1</th>\n",
       "      <td>2</td>\n",
       "      <td>Bhilai</td>\n",
       "      <td>Chhattisgarh</td>\n",
       "      <td>India</td>\n",
       "      <td>Bhilai, Chhattisgarh, India</td>\n",
       "      <td>(Bhilai, Durg, Chhattisgarh, India, (21.212067...</td>\n",
       "      <td>21.212068</td>\n",
       "    </tr>\n",
       "    <tr>\n",
       "      <th>2</th>\n",
       "      <td>3</td>\n",
       "      <td>Durg</td>\n",
       "      <td>Chhattisgarh</td>\n",
       "      <td>India</td>\n",
       "      <td>Durg, Chhattisgarh, India</td>\n",
       "      <td>(Durg, Chhattisgarh, 491002, India, (21.189728...</td>\n",
       "      <td>21.189729</td>\n",
       "    </tr>\n",
       "    <tr>\n",
       "      <th>3</th>\n",
       "      <td>4</td>\n",
       "      <td>Bilaspur</td>\n",
       "      <td>Chhattisgarh</td>\n",
       "      <td>India</td>\n",
       "      <td>Bilaspur, Chhattisgarh, India</td>\n",
       "      <td>(Bilaspur, Bilāspur, Bilaspur, Chhattisgarh, 4...</td>\n",
       "      <td>22.078563</td>\n",
       "    </tr>\n",
       "    <tr>\n",
       "      <th>4</th>\n",
       "      <td>5</td>\n",
       "      <td>Bhatapara</td>\n",
       "      <td>Chhattisgarh</td>\n",
       "      <td>India</td>\n",
       "      <td>Bhatapara, Chhattisgarh, India</td>\n",
       "      <td>(Bhatapara, Durg, Chhattisgarh, 493118, India,...</td>\n",
       "      <td>21.770700</td>\n",
       "    </tr>\n",
       "  </tbody>\n",
       "</table>\n",
       "</div>"
      ],
      "text/plain": [
       "   ID       City         State Country                         Address  \\\n",
       "0   1     Raipur  Chhattisgarh   India     Raipur, Chhattisgarh, India   \n",
       "1   2     Bhilai  Chhattisgarh   India     Bhilai, Chhattisgarh, India   \n",
       "2   3       Durg  Chhattisgarh   India       Durg, Chhattisgarh, India   \n",
       "3   4   Bilaspur  Chhattisgarh   India   Bilaspur, Chhattisgarh, India   \n",
       "4   5  Bhatapara  Chhattisgarh   India  Bhatapara, Chhattisgarh, India   \n",
       "\n",
       "                                         Coordinates   Latitude  \n",
       "0  (Raipur, Chhattisgarh, 493332, India, (21.2379...  21.237947  \n",
       "1  (Bhilai, Durg, Chhattisgarh, India, (21.212067...  21.212068  \n",
       "2  (Durg, Chhattisgarh, 491002, India, (21.189728...  21.189729  \n",
       "3  (Bilaspur, Bilāspur, Bilaspur, Chhattisgarh, 4...  22.078563  \n",
       "4  (Bhatapara, Durg, Chhattisgarh, 493118, India,...  21.770700  "
      ]
     },
     "execution_count": 64,
     "metadata": {},
     "output_type": "execute_result"
    }
   ],
   "source": [
    "df"
   ]
  },
  {
   "cell_type": "code",
   "execution_count": 65,
   "metadata": {
    "collapsed": true
   },
   "outputs": [],
   "source": [
    "df[\"Longitude\"] = df[\"Coordinates\"].apply(lambda x: x.longitude if x != None else None)"
   ]
  },
  {
   "cell_type": "code",
   "execution_count": 67,
   "metadata": {},
   "outputs": [
    {
     "data": {
      "text/html": [
       "<div>\n",
       "<table border=\"1\" class=\"dataframe\">\n",
       "  <thead>\n",
       "    <tr style=\"text-align: right;\">\n",
       "      <th></th>\n",
       "      <th>ID</th>\n",
       "      <th>City</th>\n",
       "      <th>State</th>\n",
       "      <th>Country</th>\n",
       "      <th>Address</th>\n",
       "      <th>Coordinates</th>\n",
       "      <th>Latitude</th>\n",
       "      <th>Longitude</th>\n",
       "    </tr>\n",
       "  </thead>\n",
       "  <tbody>\n",
       "    <tr>\n",
       "      <th>0</th>\n",
       "      <td>1</td>\n",
       "      <td>Raipur</td>\n",
       "      <td>Chhattisgarh</td>\n",
       "      <td>India</td>\n",
       "      <td>Raipur, Chhattisgarh, India</td>\n",
       "      <td>(Raipur, Chhattisgarh, 493332, India, (21.2379...</td>\n",
       "      <td>21.237947</td>\n",
       "      <td>81.633683</td>\n",
       "    </tr>\n",
       "    <tr>\n",
       "      <th>1</th>\n",
       "      <td>2</td>\n",
       "      <td>Bhilai</td>\n",
       "      <td>Chhattisgarh</td>\n",
       "      <td>India</td>\n",
       "      <td>Bhilai, Chhattisgarh, India</td>\n",
       "      <td>(Bhilai, Durg, Chhattisgarh, India, (21.212067...</td>\n",
       "      <td>21.212068</td>\n",
       "      <td>81.373285</td>\n",
       "    </tr>\n",
       "    <tr>\n",
       "      <th>2</th>\n",
       "      <td>3</td>\n",
       "      <td>Durg</td>\n",
       "      <td>Chhattisgarh</td>\n",
       "      <td>India</td>\n",
       "      <td>Durg, Chhattisgarh, India</td>\n",
       "      <td>(Durg, Chhattisgarh, 491002, India, (21.189728...</td>\n",
       "      <td>21.189729</td>\n",
       "      <td>81.274647</td>\n",
       "    </tr>\n",
       "    <tr>\n",
       "      <th>3</th>\n",
       "      <td>4</td>\n",
       "      <td>Bilaspur</td>\n",
       "      <td>Chhattisgarh</td>\n",
       "      <td>India</td>\n",
       "      <td>Bilaspur, Chhattisgarh, India</td>\n",
       "      <td>(Bilaspur, Bilāspur, Bilaspur, Chhattisgarh, 4...</td>\n",
       "      <td>22.078563</td>\n",
       "      <td>82.147648</td>\n",
       "    </tr>\n",
       "    <tr>\n",
       "      <th>4</th>\n",
       "      <td>5</td>\n",
       "      <td>Bhatapara</td>\n",
       "      <td>Chhattisgarh</td>\n",
       "      <td>India</td>\n",
       "      <td>Bhatapara, Chhattisgarh, India</td>\n",
       "      <td>(Bhatapara, Durg, Chhattisgarh, 493118, India,...</td>\n",
       "      <td>21.770700</td>\n",
       "      <td>81.812614</td>\n",
       "    </tr>\n",
       "  </tbody>\n",
       "</table>\n",
       "</div>"
      ],
      "text/plain": [
       "   ID       City         State Country                         Address  \\\n",
       "0   1     Raipur  Chhattisgarh   India     Raipur, Chhattisgarh, India   \n",
       "1   2     Bhilai  Chhattisgarh   India     Bhilai, Chhattisgarh, India   \n",
       "2   3       Durg  Chhattisgarh   India       Durg, Chhattisgarh, India   \n",
       "3   4   Bilaspur  Chhattisgarh   India   Bilaspur, Chhattisgarh, India   \n",
       "4   5  Bhatapara  Chhattisgarh   India  Bhatapara, Chhattisgarh, India   \n",
       "\n",
       "                                         Coordinates   Latitude  Longitude  \n",
       "0  (Raipur, Chhattisgarh, 493332, India, (21.2379...  21.237947  81.633683  \n",
       "1  (Bhilai, Durg, Chhattisgarh, India, (21.212067...  21.212068  81.373285  \n",
       "2  (Durg, Chhattisgarh, 491002, India, (21.189728...  21.189729  81.274647  \n",
       "3  (Bilaspur, Bilāspur, Bilaspur, Chhattisgarh, 4...  22.078563  82.147648  \n",
       "4  (Bhatapara, Durg, Chhattisgarh, 493118, India,...  21.770700  81.812614  "
      ]
     },
     "execution_count": 67,
     "metadata": {},
     "output_type": "execute_result"
    }
   ],
   "source": [
    "df"
   ]
  },
  {
   "cell_type": "code",
   "execution_count": 69,
   "metadata": {},
   "outputs": [
    {
     "data": {
      "text/html": [
       "<div>\n",
       "<table border=\"1\" class=\"dataframe\">\n",
       "  <thead>\n",
       "    <tr style=\"text-align: right;\">\n",
       "      <th></th>\n",
       "      <th>0</th>\n",
       "      <th>1</th>\n",
       "      <th>2</th>\n",
       "      <th>3</th>\n",
       "      <th>4</th>\n",
       "    </tr>\n",
       "  </thead>\n",
       "  <tbody>\n",
       "    <tr>\n",
       "      <th>ID</th>\n",
       "      <td>1</td>\n",
       "      <td>2</td>\n",
       "      <td>3</td>\n",
       "      <td>4</td>\n",
       "      <td>5</td>\n",
       "    </tr>\n",
       "    <tr>\n",
       "      <th>City</th>\n",
       "      <td>Raipur</td>\n",
       "      <td>Bhilai</td>\n",
       "      <td>Durg</td>\n",
       "      <td>Bilaspur</td>\n",
       "      <td>Bhatapara</td>\n",
       "    </tr>\n",
       "    <tr>\n",
       "      <th>State</th>\n",
       "      <td>Chhattisgarh</td>\n",
       "      <td>Chhattisgarh</td>\n",
       "      <td>Chhattisgarh</td>\n",
       "      <td>Chhattisgarh</td>\n",
       "      <td>Chhattisgarh</td>\n",
       "    </tr>\n",
       "    <tr>\n",
       "      <th>Country</th>\n",
       "      <td>India</td>\n",
       "      <td>India</td>\n",
       "      <td>India</td>\n",
       "      <td>India</td>\n",
       "      <td>India</td>\n",
       "    </tr>\n",
       "    <tr>\n",
       "      <th>Address</th>\n",
       "      <td>Raipur, Chhattisgarh, India</td>\n",
       "      <td>Bhilai, Chhattisgarh, India</td>\n",
       "      <td>Durg, Chhattisgarh, India</td>\n",
       "      <td>Bilaspur, Chhattisgarh, India</td>\n",
       "      <td>Bhatapara, Chhattisgarh, India</td>\n",
       "    </tr>\n",
       "    <tr>\n",
       "      <th>Coordinates</th>\n",
       "      <td>(Raipur, Chhattisgarh, 493332, India, (21.2379...</td>\n",
       "      <td>(Bhilai, Durg, Chhattisgarh, India, (21.212067...</td>\n",
       "      <td>(Durg, Chhattisgarh, 491002, India, (21.189728...</td>\n",
       "      <td>(Bilaspur, Bilāspur, Bilaspur, Chhattisgarh, 4...</td>\n",
       "      <td>(Bhatapara, Durg, Chhattisgarh, 493118, India,...</td>\n",
       "    </tr>\n",
       "    <tr>\n",
       "      <th>Latitude</th>\n",
       "      <td>21.2379</td>\n",
       "      <td>21.2121</td>\n",
       "      <td>21.1897</td>\n",
       "      <td>22.0786</td>\n",
       "      <td>21.7707</td>\n",
       "    </tr>\n",
       "    <tr>\n",
       "      <th>Longitude</th>\n",
       "      <td>81.6337</td>\n",
       "      <td>81.3733</td>\n",
       "      <td>81.2746</td>\n",
       "      <td>82.1476</td>\n",
       "      <td>81.8126</td>\n",
       "    </tr>\n",
       "  </tbody>\n",
       "</table>\n",
       "</div>"
      ],
      "text/plain": [
       "                                                             0  \\\n",
       "ID                                                           1   \n",
       "City                                                    Raipur   \n",
       "State                                             Chhattisgarh   \n",
       "Country                                                  India   \n",
       "Address                            Raipur, Chhattisgarh, India   \n",
       "Coordinates  (Raipur, Chhattisgarh, 493332, India, (21.2379...   \n",
       "Latitude                                               21.2379   \n",
       "Longitude                                              81.6337   \n",
       "\n",
       "                                                             1  \\\n",
       "ID                                                           2   \n",
       "City                                                    Bhilai   \n",
       "State                                             Chhattisgarh   \n",
       "Country                                                  India   \n",
       "Address                            Bhilai, Chhattisgarh, India   \n",
       "Coordinates  (Bhilai, Durg, Chhattisgarh, India, (21.212067...   \n",
       "Latitude                                               21.2121   \n",
       "Longitude                                              81.3733   \n",
       "\n",
       "                                                             2  \\\n",
       "ID                                                           3   \n",
       "City                                                      Durg   \n",
       "State                                             Chhattisgarh   \n",
       "Country                                                  India   \n",
       "Address                              Durg, Chhattisgarh, India   \n",
       "Coordinates  (Durg, Chhattisgarh, 491002, India, (21.189728...   \n",
       "Latitude                                               21.1897   \n",
       "Longitude                                              81.2746   \n",
       "\n",
       "                                                             3  \\\n",
       "ID                                                           4   \n",
       "City                                                  Bilaspur   \n",
       "State                                             Chhattisgarh   \n",
       "Country                                                  India   \n",
       "Address                          Bilaspur, Chhattisgarh, India   \n",
       "Coordinates  (Bilaspur, Bilāspur, Bilaspur, Chhattisgarh, 4...   \n",
       "Latitude                                               22.0786   \n",
       "Longitude                                              82.1476   \n",
       "\n",
       "                                                             4  \n",
       "ID                                                           5  \n",
       "City                                                 Bhatapara  \n",
       "State                                             Chhattisgarh  \n",
       "Country                                                  India  \n",
       "Address                         Bhatapara, Chhattisgarh, India  \n",
       "Coordinates  (Bhatapara, Durg, Chhattisgarh, 493118, India,...  \n",
       "Latitude                                               21.7707  \n",
       "Longitude                                              81.8126  "
      ]
     },
     "execution_count": 69,
     "metadata": {},
     "output_type": "execute_result"
    }
   ],
   "source": [
    "df_t = df.T\n",
    "df_t"
   ]
  },
  {
   "cell_type": "code",
   "execution_count": 72,
   "metadata": {},
   "outputs": [
    {
     "data": {
      "text/html": [
       "<div>\n",
       "<table border=\"1\" class=\"dataframe\">\n",
       "  <thead>\n",
       "    <tr style=\"text-align: right;\">\n",
       "      <th></th>\n",
       "      <th>ID</th>\n",
       "      <th>City</th>\n",
       "      <th>State</th>\n",
       "      <th>Country</th>\n",
       "      <th>Address</th>\n",
       "      <th>Coordinates</th>\n",
       "      <th>Latitude</th>\n",
       "      <th>Longitude</th>\n",
       "    </tr>\n",
       "  </thead>\n",
       "  <tbody>\n",
       "    <tr>\n",
       "      <th>0</th>\n",
       "      <td>1</td>\n",
       "      <td>Raipur</td>\n",
       "      <td>Chhattisgarh</td>\n",
       "      <td>India</td>\n",
       "      <td>Raipur, Chhattisgarh, India</td>\n",
       "      <td>(Raipur, Chhattisgarh, 493332, India, (21.2379...</td>\n",
       "      <td>21.237947</td>\n",
       "      <td>81.633683</td>\n",
       "    </tr>\n",
       "    <tr>\n",
       "      <th>1</th>\n",
       "      <td>2</td>\n",
       "      <td>Bhilai</td>\n",
       "      <td>Chhattisgarh</td>\n",
       "      <td>India</td>\n",
       "      <td>Bhilai, Chhattisgarh, India</td>\n",
       "      <td>(Bhilai, Durg, Chhattisgarh, India, (21.212067...</td>\n",
       "      <td>21.212068</td>\n",
       "      <td>81.373285</td>\n",
       "    </tr>\n",
       "    <tr>\n",
       "      <th>2</th>\n",
       "      <td>3</td>\n",
       "      <td>Durg</td>\n",
       "      <td>Chhattisgarh</td>\n",
       "      <td>India</td>\n",
       "      <td>Durg, Chhattisgarh, India</td>\n",
       "      <td>(Durg, Chhattisgarh, 491002, India, (21.189728...</td>\n",
       "      <td>21.189729</td>\n",
       "      <td>81.274647</td>\n",
       "    </tr>\n",
       "    <tr>\n",
       "      <th>3</th>\n",
       "      <td>4</td>\n",
       "      <td>Bilaspur</td>\n",
       "      <td>Chhattisgarh</td>\n",
       "      <td>India</td>\n",
       "      <td>Bilaspur, Chhattisgarh, India</td>\n",
       "      <td>(Bilaspur, Bilāspur, Bilaspur, Chhattisgarh, 4...</td>\n",
       "      <td>22.078563</td>\n",
       "      <td>82.147648</td>\n",
       "    </tr>\n",
       "    <tr>\n",
       "      <th>4</th>\n",
       "      <td>5</td>\n",
       "      <td>Bhatapara</td>\n",
       "      <td>Chhattisgarh</td>\n",
       "      <td>India</td>\n",
       "      <td>Bhatapara, Chhattisgarh, India</td>\n",
       "      <td>(Bhatapara, Durg, Chhattisgarh, 493118, India,...</td>\n",
       "      <td>21.770700</td>\n",
       "      <td>81.812614</td>\n",
       "    </tr>\n",
       "  </tbody>\n",
       "</table>\n",
       "</div>"
      ],
      "text/plain": [
       "   ID       City         State Country                         Address  \\\n",
       "0   1     Raipur  Chhattisgarh   India     Raipur, Chhattisgarh, India   \n",
       "1   2     Bhilai  Chhattisgarh   India     Bhilai, Chhattisgarh, India   \n",
       "2   3       Durg  Chhattisgarh   India       Durg, Chhattisgarh, India   \n",
       "3   4   Bilaspur  Chhattisgarh   India   Bilaspur, Chhattisgarh, India   \n",
       "4   5  Bhatapara  Chhattisgarh   India  Bhatapara, Chhattisgarh, India   \n",
       "\n",
       "                                         Coordinates   Latitude  Longitude  \n",
       "0  (Raipur, Chhattisgarh, 493332, India, (21.2379...  21.237947  81.633683  \n",
       "1  (Bhilai, Durg, Chhattisgarh, India, (21.212067...  21.212068  81.373285  \n",
       "2  (Durg, Chhattisgarh, 491002, India, (21.189728...  21.189729  81.274647  \n",
       "3  (Bilaspur, Bilāspur, Bilaspur, Chhattisgarh, 4...  22.078563  82.147648  \n",
       "4  (Bhatapara, Durg, Chhattisgarh, 493118, India,...  21.770700  81.812614  "
      ]
     },
     "execution_count": 72,
     "metadata": {},
     "output_type": "execute_result"
    }
   ],
   "source": [
    "df"
   ]
  },
  {
   "cell_type": "code",
   "execution_count": 74,
   "metadata": {},
   "outputs": [
    {
     "data": {
      "text/html": [
       "<div>\n",
       "<table border=\"1\" class=\"dataframe\">\n",
       "  <thead>\n",
       "    <tr style=\"text-align: right;\">\n",
       "      <th></th>\n",
       "      <th>ID</th>\n",
       "      <th>City</th>\n",
       "      <th>State</th>\n",
       "      <th>Country</th>\n",
       "      <th>Coordinates</th>\n",
       "      <th>Latitude</th>\n",
       "      <th>Longitude</th>\n",
       "    </tr>\n",
       "  </thead>\n",
       "  <tbody>\n",
       "    <tr>\n",
       "      <th>0</th>\n",
       "      <td>1</td>\n",
       "      <td>Raipur</td>\n",
       "      <td>Chhattisgarh</td>\n",
       "      <td>India</td>\n",
       "      <td>(Raipur, Chhattisgarh, 493332, India, (21.2379...</td>\n",
       "      <td>21.237947</td>\n",
       "      <td>81.633683</td>\n",
       "    </tr>\n",
       "    <tr>\n",
       "      <th>1</th>\n",
       "      <td>2</td>\n",
       "      <td>Bhilai</td>\n",
       "      <td>Chhattisgarh</td>\n",
       "      <td>India</td>\n",
       "      <td>(Bhilai, Durg, Chhattisgarh, India, (21.212067...</td>\n",
       "      <td>21.212068</td>\n",
       "      <td>81.373285</td>\n",
       "    </tr>\n",
       "    <tr>\n",
       "      <th>2</th>\n",
       "      <td>3</td>\n",
       "      <td>Durg</td>\n",
       "      <td>Chhattisgarh</td>\n",
       "      <td>India</td>\n",
       "      <td>(Durg, Chhattisgarh, 491002, India, (21.189728...</td>\n",
       "      <td>21.189729</td>\n",
       "      <td>81.274647</td>\n",
       "    </tr>\n",
       "    <tr>\n",
       "      <th>3</th>\n",
       "      <td>4</td>\n",
       "      <td>Bilaspur</td>\n",
       "      <td>Chhattisgarh</td>\n",
       "      <td>India</td>\n",
       "      <td>(Bilaspur, Bilāspur, Bilaspur, Chhattisgarh, 4...</td>\n",
       "      <td>22.078563</td>\n",
       "      <td>82.147648</td>\n",
       "    </tr>\n",
       "    <tr>\n",
       "      <th>4</th>\n",
       "      <td>5</td>\n",
       "      <td>Bhatapara</td>\n",
       "      <td>Chhattisgarh</td>\n",
       "      <td>India</td>\n",
       "      <td>(Bhatapara, Durg, Chhattisgarh, 493118, India,...</td>\n",
       "      <td>21.770700</td>\n",
       "      <td>81.812614</td>\n",
       "    </tr>\n",
       "  </tbody>\n",
       "</table>\n",
       "</div>"
      ],
      "text/plain": [
       "   ID       City         State Country  \\\n",
       "0   1     Raipur  Chhattisgarh   India   \n",
       "1   2     Bhilai  Chhattisgarh   India   \n",
       "2   3       Durg  Chhattisgarh   India   \n",
       "3   4   Bilaspur  Chhattisgarh   India   \n",
       "4   5  Bhatapara  Chhattisgarh   India   \n",
       "\n",
       "                                         Coordinates   Latitude  Longitude  \n",
       "0  (Raipur, Chhattisgarh, 493332, India, (21.2379...  21.237947  81.633683  \n",
       "1  (Bhilai, Durg, Chhattisgarh, India, (21.212067...  21.212068  81.373285  \n",
       "2  (Durg, Chhattisgarh, 491002, India, (21.189728...  21.189729  81.274647  \n",
       "3  (Bilaspur, Bilāspur, Bilaspur, Chhattisgarh, 4...  22.078563  82.147648  \n",
       "4  (Bhatapara, Durg, Chhattisgarh, 493118, India,...  21.770700  81.812614  "
      ]
     },
     "execution_count": 74,
     "metadata": {},
     "output_type": "execute_result"
    }
   ],
   "source": [
    "df.drop(\"Address\", 1)"
   ]
  }
 ],
 "metadata": {
  "kernelspec": {
   "display_name": "Python 3",
   "language": "python",
   "name": "python3"
  },
  "language_info": {
   "codemirror_mode": {
    "name": "ipython",
    "version": 3
   },
   "file_extension": ".py",
   "mimetype": "text/x-python",
   "name": "python",
   "nbconvert_exporter": "python",
   "pygments_lexer": "ipython3",
   "version": "3.5.2"
  }
 },
 "nbformat": 4,
 "nbformat_minor": 2
}
